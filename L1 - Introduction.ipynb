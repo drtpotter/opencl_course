{
 "cells": [
  {
   "cell_type": "markdown",
   "metadata": {
    "tags": []
   },
   "source": [
    "# Introduction to OpenCL\n",
    "\n",
    "<figure style=\"float:right; width:30%;\">\n",
    "    <img src=\"images/OpenCL_RGB_Apr20.svg\" alt=\"OpenCL logo\"/>\n",
    "    <figcaption style= \"text-align:lower; margin:1em; float:bottom; vertical-align:bottom;\">OpenCL and the OpenCL logo are trademarks of Apple Inc. used by permission by Khronos.</figcaption>\n",
    "</figure>\n",
    "\n",
    "OpenCL (short for Open Computing Language) is an open standard for running compute workloads on many different kinds of compute hardware (e.g CPUs, GPU's). The OpenCL trademark is held by Apple, and the standard is developed and released by the [Khronos](https://www.khronos.org) group, a non-for-profit organisation that provides a focal point for the development of royalty-free standards such as OpenGL. The OpenCL specification itself is just a document, and can be downloaded from the Khronos website [here](https://www.khronos.org/registry/OpenCL/specs/). It is then the task of compute hardware vendors to produce software implementations of OpenCL that best make use of their compute devices."
   ]
  },
  {
   "cell_type": "markdown",
   "metadata": {},
   "source": [
    "## How does OpenCL work?\n",
    "\n",
    "In order to answer how an OpenCL implementation works, we need to start thinking about hardware. In every compute device such as a CPU or GPU there are a number of cores on which software can be run. In OpenCL terminology these cores are called **Compute Units**. Each Compute Unit makes available to the operating system a number of hardware threads that can run software. In OpenCL terminology we call these hardware threads **Processing Elements**. For example, an NVIDIA GP102 die is shown below. Each die contains 30 compute units, shown contained by the orange squares. Each compute unit provides 128 processing elements (CUDA cores), so in this example there are $30\\times128 = 3840$ processing elements available for use in compute applications. \n",
    "\n",
    "<figure style=\"margin: 1em; margin-left:auto; margin-right:auto; width:70%;\">\n",
    "    <img src=\"images/compute_units.svg\">\n",
    "    <figcaption style= \"text-align:lower; margin:1em; float:bottom; vertical-align:bottom;\">NVIDIA GP102 die with compute units highlighted in orange. Image credit: <a href=\"https://www.flickr.com/photos/130561288@N04/46079430302/\")>Fritzchens Fritz</a></figcaption>\n",
    "</figure>"
   ]
  },
  {
   "cell_type": "markdown",
   "metadata": {},
   "source": [
    "During execution of an OpenCL program, processing elements each run an instance of a user-specified piece of compiled code called a **kernel**. Below is an example OpenCL C kernel that takes the absolute value of a single element of an array.\n",
    "\n",
    "```C\n",
    "__kernel void vec_fabs(\n",
    "        // Memory allocations that are on the compute device\n",
    "        __global float *src, \n",
    "        __global float *dst,\n",
    "        // Number of elements in the memory allocations\n",
    "        int length) {\n",
    "\n",
    "    // Get our position in the array\n",
    "    size_t gid0 = get_global_id(0);\n",
    "\n",
    "    // Get the absolute value of \n",
    "    if (gid0 < length) {\n",
    "        dst[gid0] = fabs(src[gid0]);\n",
    "    }\n",
    "}\n",
    "```\n",
    "\n",
    "We want to run a kernel instance for every element of the array. An OpenCL implementation is a way to run kernel instances on processing elements as they become available. The implementation also provides the means to upload and download memory to and from compute devices. We specify how many kernel instances we want at runtime by defining a 3D execution space called a **Grid** and specifying its size at kernel launch. Every point in the Grid is called a **work-item** and represents a unique invocation of the kernel. A work-item is equivalent to a single kernel invocation. This is much like defining an execution space using nested loops, however with OpenCL there are no guarantees on the order in which work items are completed.\n",
    "\n",
    "<figure style=\"margin-left:auto; margin-right:auto; width:70%;\">\n",
    "    <img style=\"vertical-align:middle\" src=\"images/grid.svg\">\n",
    "    <figcaption style= \"text-align:lower; margin:1em; float:bottom; vertical-align:bottom;\">Three-dimensional Grid with work-items and work-groups.</figcaption>\n",
    "</figure>"
   ]
  },
  {
   "cell_type": "markdown",
   "metadata": {},
   "source": [
    "Work-items are executed in teams called work-groups. In the example above, the grid is of global size (10, 8, 2) and each work-group is of size (5,4,1). The the number of work-groups in each dimension is then (2,2,2). Every work item has access to device memory that it can use exclusively (**private memory**), access to memory the team can use (**local memory**), and access to memory that other teams use (**global** and **constant** memory). Every kernel invocation or work-item can query its location within the **Grid** and use that position as a reference to access allocated memory on the compute device at an appropriately calculated offset."
   ]
  },
  {
   "cell_type": "markdown",
   "metadata": {},
   "source": [
    "<figure style=\"margin-left:auto; margin-right:auto; width:70%;\">\n",
    "    <img style=\"vertical-\n",
    "                align:middle\" src=\"images/mem_access.svg\">\n",
    "    <figcaption style= \"text-align:lower; margin:1em; float:bottom; vertical-align:bottom;\">Using the location within the Grid to access memory within a memory allocation on a GPU compute device.</figcaption>\n",
    "</figure>\n",
    "\n",
    "The above concepts form the core ideas surrounding OpenCL. Everything that follows in this course is supporting information on how to prepare compute devices, memory allocations, kernel invocations, and how best to use these concepts together to get the best performance out of your compute devices. "
   ]
  },
  {
   "cell_type": "markdown",
   "metadata": {},
   "source": [
    "### Elements of an accelerated application\n",
    "\n",
    "In every accelerated application there is the concept of a host computer with one or more attached compute devices. The host usually has the largest memory space available and the compute device usually has the most compute power and memory bandwidth. This is why we say the application is \"accelerated\" by the compute device.\n",
    "\n",
    "At runtime, the host executes the application and compiles kernels for execution on the compute device. The host manages memory allocations and submits kernels to the compute device for execution. For instances where the compute device is a CPU, the host CPU and the compute device are the same.\n",
    "\n",
    "Every accelerated application follows the same logical progression of steps: \n",
    "\n",
    "1. Compute devices discovered\n",
    "1. Kernels prepared for compute devices\n",
    "1. Memory allocated on the compute device\n",
    "1. Memory copied to the compute device\n",
    "1. Kernels run on the compute device\n",
    "1. Wait for kernels to finish\n",
    "1. Memory copied back from the computed device to the host\n",
    "1. Repeat steps 3 - 8 as many times as necessary\n",
    "1. Clean up resources and exit\n",
    "\n",
    "We now discuss the OpenCL components that make these steps possible."
   ]
  },
  {
   "cell_type": "markdown",
   "metadata": {},
   "source": [
    "### Taxonomy of an OpenCL application\n",
    "\n",
    "Below is a representation of the core software components that are available to an OpenCL application.\n",
    "\n",
    "<figure style=\"margin-left:auto; margin-right:auto; width:50%;\">\n",
    "    <img style=\"vertical-\n",
    "                align:middle\" src=\"images/opencl_components.svg\">\n",
    "    <figcaption style= \"text-align:lower; margin:1em; float:bottom; vertical-align:bottom;\">Components of an OpenCL application.</figcaption>\n",
    "</figure>"
   ]
  },
  {
   "cell_type": "markdown",
   "metadata": {},
   "source": [
    "The first is the **Platform**. This is a software representation of the vendor. A platform provides access to all **devices** that the platform supports. During device discovery, available platforms must be queried before anything else. A platform provides access to one or more compute devices and possibly even a mixture of accelerator devices from the same vendor.\n",
    "\n",
    "A **Device** provides a way to query the capabilites of the compute device and provides a foundation to build a context.\n",
    "\n",
    "Surrounding the devices is a **Context**. A Context is like a registry that keeps track of everything (i.e kernel executions and memory allocations) that are happening on the compute device/s. A context is constructed on using both a platform and one or more devices on the platform. There are some benefits (such as memory copies) that could be obtained by encapsulating one or more devices under the same context, however this assumes that devices must belong to the same platform - an assumption which may not be true. A simpler and more general design is to create a unique context for every compute device.\n",
    "\n",
    "Within the context are **Buffers**. Buffers are memory allocations managed under the context, and may exist on either the host or the compute device. At runtime memory is migrated to where is needed, but you can have some control over where the buffer lives. \n",
    "\n",
    "At runtime, source code for the kernels is collated into a **Program**, and the program is compiled for every device in a context. There must be a program for every context, and every program must be compiled with knowledge of the associated devices under the context.\n",
    "\n",
    "Once a context has been created and devices are known, then one can create one or more **Command queue/s** for each device. A command queue is a place to submit work, such as kernel invocations and memory copies. \n",
    "\n",
    "A **Kernel** is a component of a compiled **Program**. At runtime we set the arguments of compiled kernels and then submit kernels to command queues for execution. We can keep track of the status of a command submitted to the command queue using an **Event**.\n",
    "\n",
    "In summary we have the following components:\n",
    "\n",
    "* **Platform**: provides access to devices\n",
    "* **Device**: represents a way to access the compute device and to query device capabilities\n",
    "* **Context**: provides a way to create Buffers and keep track of what is happening on compute devices\n",
    "* **Buffer**: provides a way to allocate memory on devices\n",
    "* **Program**: provides a way to compile kernels for each device\n",
    "* **Command queue**: provides a place to send work such as memory copy commands and kernel executions\n",
    "* **Kernel**: provides a way to do work on a compute device\n",
    "* **Event**: provides a way to keep track of work submitted to a command queue"
   ]
  },
  {
   "cell_type": "markdown",
   "metadata": {},
   "source": [
    "## Specification Roadmap\n",
    "\n",
    "From [Wikipedia](https://en.wikipedia.org/wiki/OpenCL) OpenCL was originally designed by Apple, who developed a proposal to submit to the Khronos group and holds the trademarks to OpenCL. The first specification, OpenCL 1.0, was ratified on November 18, 2008 and the first public release of the standard was on December 2008. Since then a number of different versions of the standard have been released. \n",
    "\n",
    "**Version 1.1** introduced thread safety so that calls to most OpenCL functions from different threads didn't introduce race conditions. If memory allocations in buffers are used to represent 2D and 3D arrays, then Version 1.1 introduced routines to copy rectangular regions of those buffers to and from the host. \n",
    "\n",
    "**Version 1.2** is probably the most significant release of OpenCL. It remained the defacto OpenCL standard for at least 10 years. Abilities such as being able to divide the processing elements of a compute device into sub-devices that share a common cache and offline compilation of kernels were useful. Having math operations conform to the IEEE754 precision standard meant consistent results across heterogeneous compute architectures.\n",
    "\n",
    "**Version 2.0** introduced support for Shared Virtual Memory (SVM). Implementation of SVM meant we no longer needed to qualify which space (i.e global, local..) a memory allocation belonged to, and memory could be transferred to and from devices transparently to the user. This was too much for some vendors to implement however, and a few vendor implementations remained at 1.2 for a number of years.\n",
    "\n",
    "**Version 2.1** brought the SPIR-V (Standard Portable Intermediate Representation) language to OpenCL. During compilation a open-source compiler can take C or C++ kernel code and emit a compiled program as SPIR-V intermediate code. At runtime this program is loaded by the application and passed to the vendor driver for further compilation to binary code that can run on the compute device. This is a significant advancement, because if a vendor can implement support for SPIR-V then it dramatically reduces the number of intermediate representations the vendor compiler must support. It also offloads support for kernel language advancements to the open source compiler and provides a measure of security against intellectual property theft.\n",
    "\n",
    "**Version 2.2** allowed kernels to be produced using a subset of the C++14 standard. It also updated support for SPIR-V to version 1.2. The combination of shared virtual memory, C++ kernels, and SPIR-V support meant that very few vendors actually succeeded in producing viable implementations of OpenCL 2.2, and OpenCL stagnated for a period of 5 years. \n",
    "\n",
    "**Version 3.0** addressed the issue of stagnation by making Version 1.2 standard and all the other improvements in Version 2.x optional. This gave vendors freedom to implement what they wanted for customers and gave the standard some breathing room. Version 3.0 also introduced a new C++ language for kernels (called C++ for OpenCL) that uses a subset of the C++17 standard. The Clang compiler supports compilation of C++ for OpenCL kernels into SPIR-V format.\n",
    "\n",
    "Below is a summary of major features implemented with each release:"
   ]
  },
  {
   "cell_type": "markdown",
   "metadata": {},
   "source": [
    "<table>\n",
    "    \n",
    "<tr>\n",
    "<th>Specification</th>\n",
    "<th>Release year</th>\n",
    "<th>Specifics</th>\n",
    "</tr>\n",
    "\n",
    "<tr>\n",
    "    <td>1.0</td>\n",
    "    <td>2008</td>\n",
    "    <td>Initial implementation</td>\n",
    "</tr>\n",
    "\n",
    "<tr>\n",
    "    <td>1.1</td>\n",
    "    <td>2010</td>\n",
    "    <td> \n",
    "        <ul> \n",
    "            <li> Copy rectangular sections to and from Buffers </li>\n",
    "            <li> User-defined Events </li>\n",
    "            <li> 3-component vector types </li>\n",
    "            <li> Support for making Buffers from Buffers (sub-Buffers) </li>\n",
    "            <li> Thread safety for all functions except setting kernel arguments </li>\n",
    "        </ul> \n",
    "    </td>\n",
    "</tr>\n",
    "    \n",
    "<tr>\n",
    "    <td>1.2</td>\n",
    "    <td>2011</td>\n",
    "    <td> \n",
    "        <ul> \n",
    "            <li> The ability to divide a compute device into sub-devices, that share a cache for example </li>\n",
    "            <li> Offline compilation of kernels </li>\n",
    "            <li> Support for built-in kernels (i.e for FPGA's) </li>\n",
    "            <li> IEEE754 compliance for consistent math across devices </li>\n",
    "            <li> Enabling double precision math </li>\n",
    "            <li> Support for using printf in kernels for debugging </li>\n",
    "        </ul> \n",
    "    </td>\n",
    "</tr>\n",
    "\n",
    "<tr>\n",
    "    <td>2.0</td>\n",
    "    <td>2013</td>\n",
    "    <td> \n",
    "        <ul> \n",
    "            <li> Support for Shared Virtual Memory (SVM) </li>\n",
    "            <li> The ability to run kernels from kernels </li>\n",
    "            <li> Enhanced support for Images (specialised Buffers) </li>\n",
    "            <li> Simplified atomics </li>\n",
    "            <li> Pipe storage </li>\n",
    "            <li> Double precision IEEE754 operations </li>\n",
    "        </ul> \n",
    "    </td>\n",
    "</tr>\n",
    "    \n",
    "<tr>\n",
    "    <td>2.1</td>\n",
    "    <td>2015</td>\n",
    "    <td> \n",
    "        <ul> \n",
    "            <li> Low latency timers for profiling events </li>\n",
    "            <li> The ability to make some command queues have higher priority than others </li>\n",
    "            <li> Introduces the SPIR-V 1.1 intermediate language for compiled kernels </li>\n",
    "            <li> The ability to clone kernels </li>\n",
    "        </ul> \n",
    "    </td>\n",
    "</tr>\n",
    "    \n",
    "<tr>\n",
    "    <td>2.2</td>\n",
    "    <td>2015</td>\n",
    "    <td> \n",
    "        <ul> \n",
    "            <li> A subset of C++14 for Kernels </li>\n",
    "            <li> The ability to make some command queues have higher priority than others </li>\n",
    "            <li> Updates the SPIR-V intermediate language to version 1.2 </li>\n",
    "        </ul> \n",
    "    </td>\n",
    "</tr>\n",
    "    \n",
    "<tr>\n",
    "    <td>3.0</td>\n",
    "    <td>2020</td>\n",
    "    <td> \n",
    "        <ul> \n",
    "            <li> Version 1.2 is canon, everything else is an option </li>\n",
    "            <li> The ability to call a function when a context is destroyed </li>\n",
    "            <li> Introduces C++ for OpenCL </li>\n",
    "        </ul> \n",
    "    </td>\n",
    "</tr>\n",
    "    \n",
    "</table>"
   ]
  },
  {
   "cell_type": "markdown",
   "metadata": {},
   "source": [
    "### Vendor implementations\n",
    "\n",
    "A conformant OpenCL implementation is an implementation of OpenCL that has passed Khronos' [test suite](https://github.com/KhronosGroup/OpenCL-CTS). The number of vendors with conformant implementations is an evolving list, click [here](https://www.khronos.org/conformance/adopters/conformant-products/opencl) to see the latest conformant implementations."
   ]
  },
  {
   "cell_type": "markdown",
   "metadata": {},
   "source": [
    "## Getting help for OpenCL\n",
    "\n",
    "The best source of help for OpenCL is [Khronos OpenCL registry](https://www.khronos.org/registry/OpenCL/). There you can find excellent documentation on  the latest specification that your vendor supports. As an exercise, download the latest API specification in PDF format and have it ready as reference material."
   ]
  },
  {
   "cell_type": "markdown",
   "metadata": {
    "tags": []
   },
   "source": [
    "## Is OpenCL right for you?\n",
    "\n",
    "This is sometimes a difficult question to answer. If you are looking for a compute solution with the ability to use the widest variety of hardware at reasonable peformance then OpenCL is a good fit. However if you are looking for the best possible performance, then using vendor-specific tools will help with that. \n",
    "\n",
    "**Drawbacks to using OpenCL**\n",
    "\n",
    "* Can't readily utilise device-specific hardware (i.e tensor or matrix cores)?\n",
    "* When vendors have their own accelerator libraries it creates a financial incentive to prioritise development and performance of their libraries over their OpenCL implementation.\n",
    "* Buffer allocations are sometimes limited to $1/4$ or more of available device memory (vendor specific)\n",
    "* Lots of code required to set up the computation, increased potential for error\n",
    "* Paucity of vendor-supported tools for debugging and profiling\n",
    "\n",
    "**Benefits of using OpenCL**\n",
    "\n",
    "* Straightforward well-defined C API with good documentation\n",
    "* Ability to use a wide variety of hardware\n",
    "* Data types to facilitate consistent precision across implementations\n",
    "* Consistent math across implementations\n",
    "* Support for vectors of up to 16 elements\n",
    "* Open standard - the standard is not (explicitly) contingent on the wellbeing of a single vendor\n",
    "* Mature, production quality OpenCL implementations"
   ]
  },
  {
   "cell_type": "markdown",
   "metadata": {},
   "source": [
    "## Compiling OpenCL programs\n",
    "\n",
    "Just to avoid confusion there are two compilation steps for OpenCL applications: \n",
    "\n",
    "1. Compiling the application before execution\n",
    "2. Compiling kernels during execution\n",
    "\n",
    "Thankfully, when compiling an OpenCL application before execution (Step 1) we don't need to link against every available implementation. We just need to link against a single library file called the **Installable Client Driver (ICD)**. The ICD has the name (**opencl.dll**) on Windows and (**libOpenCL.so**) on Linux. Accompanying the ICD are header files (**opencl.h** for C and **cl.hpp** for C++) that must be \"included\" from the C/C++ source code. The ICD takes care of intercepting all library calls and routing them to the appropriate vendor implementation. This happens transparently to the user. "
   ]
  },
  {
   "cell_type": "markdown",
   "metadata": {
    "tags": []
   },
   "source": [
    "## Exercise: compiling your first OpenCL application\n",
    "\n",
    "## References"
   ]
  },
  {
   "cell_type": "markdown",
   "metadata": {},
   "source": [
    "<address>\n",
    "&copy; 2021 by Dr. Toby Potter<br>\n",
    "email: <a href=\"mailto:tobympotter@gmail.com\">tobympotter@gmail.com</a><br>\n",
    "Visit us at: <a href=\"https://www.pelagos-consulting.com\">www.pelagos-consulting.com</a><br>\n",
    "</address>"
   ]
  }
 ],
 "metadata": {
  "kernelspec": {
   "display_name": "Python 3 (ipykernel)",
   "language": "python",
   "name": "python3"
  },
  "language_info": {
   "codemirror_mode": {
    "name": "ipython",
    "version": 3
   },
   "file_extension": ".py",
   "mimetype": "text/x-python",
   "name": "python",
   "nbconvert_exporter": "python",
   "pygments_lexer": "ipython3",
   "version": "3.8.5"
  }
 },
 "nbformat": 4,
 "nbformat_minor": 4
}
