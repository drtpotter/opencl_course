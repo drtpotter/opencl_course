{
 "cells": [
  {
   "cell_type": "markdown",
   "id": "34655a13-ea43-4320-beb4-dc6ab60717a4",
   "metadata": {},
   "source": [
    "# Survival C++ and how to use it to work with data\n",
    "\n",
    "In order to understand the course material we must first understand the C language and some basic concepts from C++. Although C++ is the language of choice for many real-world scientific applications, it is more complex to understand than plain C, and can potentially introduce uncecessary complexity that may get in the way of effectively grasping the course material. This course will use mostly the C subset of the C++ language, however we use C++ compilers and tools so that we can use more advanced C++ features if convenient.\n",
    "\n",
    "## Comments\n",
    "\n",
    "Comments in C++ begin with two forward slashes //. Anything after the two forward slashes is ignored for the rest of the line.\n",
    "\n",
    "```C++\n",
    "// This is a comment\n",
    "```\n",
    "\n",
    "## Statements and code blocks\n",
    "\n",
    "A statement is a line of code. Since C++ doesn't use new lines to separate statements then every statement must have an ending, C++ uses the semicolon \";\" character to end statements.\n",
    "\n",
    "```C++\n",
    "// This is a statement that declares and integer with value 2\n",
    "int a = 2;\n",
    "```\n",
    "\n",
    "**Code blocks** are collections of statements enclosed by a starting brace \"{\", and ending with an end brace \"}\". Variables declared within code blocks do not exist outside their enclosing code block.\n",
    "\n",
    "## Basic data types\n",
    "\n",
    "There are only really two kinds of data types, integers and floats, with varying numbers of bits to represent them. Every other data type is a reinterpretation or compound mixture of these basic data types.\n",
    "\n",
    "\n",
    "\n",
    "\n",
    "\n",
    "* Basic data types\n",
    "* OpenCL Data types\n",
    "* Stacks and heaps, allocating and de-allocating memory\n",
    "* Reading and writing to and from a file\n",
    "* Structures\n",
    "* Multi-dimensional array access\n",
    "* Functions\n",
    "* math functions\n",
    "* programs\n",
    "* Exercise: debugging with GDB"
   ]
  },
  {
   "cell_type": "code",
   "execution_count": null,
   "id": "8ced2173-e221-4a34-96fc-73f603614110",
   "metadata": {},
   "outputs": [],
   "source": []
  }
 ],
 "metadata": {
  "kernelspec": {
   "display_name": "Python 3 (ipykernel)",
   "language": "python",
   "name": "python3"
  },
  "language_info": {
   "codemirror_mode": {
    "name": "ipython",
    "version": 3
   },
   "file_extension": ".py",
   "mimetype": "text/x-python",
   "name": "python",
   "nbconvert_exporter": "python",
   "pygments_lexer": "ipython3",
   "version": "3.8.5"
  }
 },
 "nbformat": 4,
 "nbformat_minor": 5
}
