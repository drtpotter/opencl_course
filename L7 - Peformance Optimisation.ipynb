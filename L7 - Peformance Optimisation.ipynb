{
 "cells": [
  {
   "cell_type": "markdown",
   "id": "d469e30b-fc2c-4251-a1e1-add3eab84ff4",
   "metadata": {},
   "source": [
    "# Performance \n",
    "\n",
    "* Mapping APIs give superior memcpy performance\n",
    "* Pinned memory is faster\n",
    "* Allocating more work per work item for CPUs\n",
    "* More work items per workgroup"
   ]
  },
  {
   "cell_type": "markdown",
   "id": "1c6db596-5f45-4318-8366-f673bcf768ce",
   "metadata": {},
   "source": [
    "### Research papers\n",
    "\n",
    "* [Using OpenCL on CPUs](https://www.hindawi.com/journals/sp/2015/859491/)"
   ]
  },
  {
   "cell_type": "code",
   "execution_count": null,
   "id": "b85aaadb-0564-420b-8501-4c5d0b7004f9",
   "metadata": {},
   "outputs": [],
   "source": []
  }
 ],
 "metadata": {
  "kernelspec": {
   "display_name": "Python 3 (ipykernel)",
   "language": "python",
   "name": "python3"
  },
  "language_info": {
   "codemirror_mode": {
    "name": "ipython",
    "version": 3
   },
   "file_extension": ".py",
   "mimetype": "text/x-python",
   "name": "python",
   "nbconvert_exporter": "python",
   "pygments_lexer": "ipython3",
   "version": "3.8.5"
  }
 },
 "nbformat": 4,
 "nbformat_minor": 5
}
