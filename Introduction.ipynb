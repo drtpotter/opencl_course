{
 "cells": [
  {
   "cell_type": "markdown",
   "metadata": {},
   "source": [
    "# Introduction\n",
    "\n",
    "OpenCL (Short for Open Computing Language) is a set of open and royalty-free standards for running compute workloads over many different kinds of computing architectures. The OpenCL trademark is held by Apple and the standard is developed and released by the [Khronos](https://www.khronos.org) group, a non-for-profit organisation that provides a focal point for the development of royalty-free standards such as OpenGL. \n",
    "\n",
    "# Origins \n",
    "\n",
    "From [Wikipedia](https://en.wikipedia.org/wiki/OpenCL) OpenCL was originally designed by Apple, who developed a proposal to submit to the Khronos group. The first specification, OpenCL 1.0 was ratified on November 18, 2008 and the first public release of the standard was on December 2008. Since then, a number of different versions of the standard have been released. The most recent version (2.2) was released on the 16th May 2017.\n",
    "\n",
    "\n",
    "# What it does\n",
    "\n",
    "An implementation of an OpenCL standard works like CUDA in that it provides a framework for the creation of specialised lightweight functions called **kernels**. These kernels provide a specific function and are compiled at runtime for the accelerator device they will run on. Kernels operate in parallel, on memory from both host and device, using any number of hardware threads that the device provides. In this way, OpenCL can readily scale up to large numbers of hardware threads such as can be found on modern GPU and manycore CPU architectures.\n",
    "\n",
    "## Device support\n",
    "\n",
    "Device hardware vendors each provide a way to compile OpenCL kernels and to manage device memory according to the OpenCL standard. Due to support from a  wide variety of hardware vendors, OpenCL applications are not limited to running on NVIDIA GPU's - they can run on CPU's, GPU's, FPGA's, and other embedded devices. \n",
    "\n",
    "Given the significant time taken to develop applications, developing your compute applications with OpenCL can unlock the ability to run portable applications across many different compute platforms.\n",
    "\n",
    "\n",
    "# Versions and support \n",
    "\n",
    "There are two main vesions of the OpenCL standard right now, 1.x and 2.x. The latest version of the OpenCL 1.x version is 1.2 and in this version memory allocated on the host and copied between host and device. Kernels constructed with this version use C. The 2.x branch of OpenCL has support for shared memory between device and host as well as support for the latest C++14 standard.\n",
    "\n",
    "|Vendor|Device type|Latest supported version| OS's supported|\n",
    "|--|--|\n",
    "|Intel|CPU+GPU|Up to 2.1|Windows, Linux|\n",
    "|AMD|CPU+GPU|2.0|Windows, Linux|\n",
    "|NVIDIA|GPU|1.2 (2.0 beta support)|Windows, Linux|\n",
    "|APPLE|CPU+GPU|1.2|MacOS|\n",
    "\n",
    "If you aim for OpenCL 1.2 at present then you stand to gain the most compatibility.\n",
    "\n",
    "# The future\n",
    "\n",
    "It is anticipated that OpenCL will eventually [converge](http://hexus.net/tech/news/software/105895-vulkan-opencl-will-merge-single-api/) with the 3D graphics standard Vulkan to provide general unified compute and graphics capability.\n",
    "\n",
    "# Recommended literature"
   ]
  },
  {
   "cell_type": "markdown",
   "metadata": {
    "collapsed": true
   },
   "source": [
    "<address>\n",
    "&copy; 2018 by Dr. Toby Potter<br>\n",
    "email: <a href=\"mailto:tobympotter@gmail.com\">tobympotter@gmail.com</a><br>\n",
    "Visit us at: <a href=\"https://www.pelagos-consulting.com\">www.pelagos-consulting.com</a><br>\n",
    "</address>"
   ]
  }
 ],
 "metadata": {
  "kernelspec": {
   "display_name": "Python [conda root]",
   "language": "python",
   "name": "conda-root-py"
  },
  "language_info": {
   "codemirror_mode": {
    "name": "ipython",
    "version": 3
   },
   "file_extension": ".py",
   "mimetype": "text/x-python",
   "name": "python",
   "nbconvert_exporter": "python",
   "pygments_lexer": "ipython3",
   "version": "3.6.2"
  }
 },
 "nbformat": 4,
 "nbformat_minor": 2
}
